{
 "cells": [
  {
   "cell_type": "markdown",
   "metadata": {},
   "source": [
    "## Specific Object Removal in videos using Dictionary Learning and Low-Rank Matrix Recovery"
   ]
  },
  {
   "cell_type": "code",
   "execution_count": 35,
   "metadata": {},
   "outputs": [],
   "source": [
    "# Import libraries\n",
    "import numpy as np\n",
    "import matplotlib.pyplot as plt\n",
    "import cv2\n",
    "from ksvd import ApproximateKSVD"
   ]
  },
  {
   "cell_type": "code",
   "execution_count": 47,
   "metadata": {},
   "outputs": [],
   "source": [
    "# Set parameters for all required tools\n",
    "\n",
    "# Image size\n",
    "image_size = 8\n",
    "dataset_size = 1000"
   ]
  },
  {
   "cell_type": "code",
   "execution_count": 48,
   "metadata": {},
   "outputs": [],
   "source": [
    "# Generate images\n",
    "# Initialize dataset\n",
    "dataset = np.zeros((dataset_size, image_size, image_size))\n",
    "# Generate images\n",
    "for i in range(dataset_size):\n",
    "    # Initialize image\n",
    "    image = np.zeros((image_size, image_size))\n",
    "    \n",
    "    # Generate a corner of a square in the image randomly\n",
    "    corner = np.random.randint(0, 4)\n",
    "    # Generate a random position for the corner\n",
    "    x = np.random.randint(0, image_size - 2)\n",
    "    y = np.random.randint(0, image_size - 2)\n",
    "    # Generate a random size for the square\n",
    "    size = np.random.randint(1, image_size - max(x, y))\n",
    "    # Add the square to the image\n",
    "    if corner == 0:\n",
    "        image[y:y+size, x:x+size] = 1\n",
    "    elif corner == 1:\n",
    "        image[y:y+size, x:x+size] = 1\n",
    "    elif corner == 2:\n",
    "        image[y:y+size, x:x+size] = 1\n",
    "    else:\n",
    "        image[y:y+size, x:x+size] = 1\n",
    "    \n",
    "    # Add image to dataset\n",
    "    dataset[i] = image\n"
   ]
  },
  {
   "cell_type": "code",
   "execution_count": 49,
   "metadata": {},
   "outputs": [
    {
     "data": {
      "image/png": "[encoded data removed]",
      "text/plain": [
       "<Figure size 640x480 with 1 Axes>"
      ]
     },
     "metadata": {},
     "output_type": "display_data"
    }
   ],
   "source": [
    "# Show a sample of the dataset\n",
    "# Choose a sample\n",
    "sample = 8\n",
    "# Plot\n",
    "plt.imshow(dataset[sample], cmap='gray')\n",
    "plt.show()\n"
   ]
  },
  {
   "cell_type": "code",
   "execution_count": 40,
   "metadata": {},
   "outputs": [
    {
     "name": "stdout",
     "output_type": "stream",
     "text": [
      "(10000, 2500)\n"
     ]
    }
   ],
   "source": [
    "# Flatten the dataset\n",
    "dataset = dataset.reshape(dataset_size, image_size*image_size)\n",
    "print(dataset.shape)"
   ]
  },
  {
   "cell_type": "markdown",
   "metadata": {},
   "source": [
    "### Training a dictionary to detect features of square objects in images using KSVD"
   ]
  },
  {
   "cell_type": "code",
   "execution_count": 33,
   "metadata": {},
   "outputs": [
    {
     "name": "stdout",
     "output_type": "stream",
     "text": [
      "Iteration: 0\n",
      "(array([8.13719294]), array([815.78609108]), 1, array([1.]))\n"
     ]
    },
    {
     "name": "stderr",
     "output_type": "stream",
     "text": [
      "/var/folders/tr/x1sz6srs7j14qnlgnby6lnb00000gn/T/ipykernel_41989/1271233495.py:39: FutureWarning: `rcond` parameter will change to the default of machine precision times ``max(M, N)`` where M and N are the input matrix dimensions.\n",
      "To use the future default and silence this warning we advise to pass `rcond=None`, to keep using the old, explicitly pass `rcond=-1`.\n",
      "  x = np.linalg.lstsq(D[:, Omega==1], dataset[j])\n"
     ]
    },
    {
     "ename": "ValueError",
     "evalue": "setting an array element with a sequence. The requested array has an inhomogeneous shape after 1 dimensions. The detected shape was (4,) + inhomogeneous part.",
     "output_type": "error",
     "traceback": [
      "\u001b[0;31m---------------------------------------------------------------------------\u001b[0m",
      "\u001b[0;31mValueError\u001b[0m                                Traceback (most recent call last)",
      "Cell \u001b[0;32mIn[33], line 42\u001b[0m\n\u001b[1;32m     40\u001b[0m     \u001b[38;5;28mprint\u001b[39m(x)\n\u001b[1;32m     41\u001b[0m     \u001b[38;5;66;03m# Update the residual\u001b[39;00m\n\u001b[0;32m---> 42\u001b[0m     \u001b[38;5;28mprint\u001b[39m(dataset[j]\u001b[38;5;241m.\u001b[39mshape, \u001b[43mnp\u001b[49m\u001b[38;5;241;43m.\u001b[39;49m\u001b[43mdot\u001b[49m\u001b[43m(\u001b[49m\u001b[43mD\u001b[49m\u001b[43m,\u001b[49m\u001b[43m \u001b[49m\u001b[43mx\u001b[49m\u001b[43m)\u001b[49m\u001b[38;5;241m.\u001b[39mshape)\n\u001b[1;32m     43\u001b[0m     r \u001b[38;5;241m=\u001b[39m dataset[j] \u001b[38;5;241m-\u001b[39m D \u001b[38;5;241m@\u001b[39m x\n\u001b[1;32m     44\u001b[0m \u001b[38;5;66;03m# Update the sparse representation\u001b[39;00m\n",
      "\u001b[0;31mValueError\u001b[0m: setting an array element with a sequence. The requested array has an inhomogeneous shape after 1 dimensions. The detected shape was (4,) + inhomogeneous part."
     ]
    }
   ],
   "source": [
    "'''\n",
    "    KSVD Implementation\n",
    "'''\n",
    "# KSVD parameters\n",
    "K = 100\n",
    "T = 10\n",
    "max_iter = 10\n",
    "# Threshold for residual error\n",
    "epsilon = 0.1\n",
    "\n",
    "# Initialize dictionary\n",
    "D = np.random.rand(image_size*image_size, K)\n",
    "# Normalize dictionary\n",
    "D = D / np.linalg.norm(D, axis=0)\n",
    "\n",
    "# Initialize sparse representation\n",
    "X = np.zeros((K, dataset_size))\n",
    "\n",
    "# KSVD algorithm\n",
    "for i in range(max_iter):\n",
    "    print('Iteration:', i)\n",
    "    # Sparse coding\n",
    "    for j in range(dataset_size):\n",
    "        # Solve the sparse coding problem\n",
    "        # Initialize sparse representation\n",
    "        x = np.zeros(K)\n",
    "        # Initialize residual\n",
    "        r = dataset[j]\n",
    "        # Initialize index set\n",
    "        Omega = np.zeros(K)\n",
    "        # Iterate T times\n",
    "        for t in range(T):\n",
    "            # Find the best atom\n",
    "            # Find the index of the atom with the maximum inner product\n",
    "            k = np.argmax(np.abs(D.T @ r))\n",
    "            # Update the index set\n",
    "            Omega[k] = 1\n",
    "            # Solve the least squares problem\n",
    "            x = np.linalg.lstsq(D[:, Omega==1], dataset[j])\n",
    "            print(x)\n",
    "            # Update the residual\n",
    "            print(dataset[j].shape, np.dot(D, x).shape)\n",
    "            r = dataset[j] - D @ x\n",
    "        # Update the sparse representation\n",
    "        X[:, j] = x\n",
    "\n",
    "    # Dictionary update\n",
    "    for k in range(K):\n",
    "        # Find the indices of the non-zero elements\n",
    "        Omega = np.where(X[k, :] != 0)[0]\n",
    "        # If the atom is used\n",
    "        if len(Omega) > 0:\n",
    "            # Update the atom\n",
    "            # Update the k-th atom\n",
    "            D[:, k] = 0\n",
    "            # Compute the error\n",
    "            E = dataset[Omega] - D @ X[:, Omega]\n",
    "            # Update the atom\n",
    "            D[:, k] = E @ X[k, Omega].T\n",
    "            # Normalize the atom\n",
    "            D[:, k] = D[:, k] / np.linalg.norm(D[:, k])\n",
    "    \n",
    "    # Compute the residual error\n",
    "    E = dataset - D @ X\n",
    "    error = np.linalg.norm(E)\n",
    "    print('Residual error:', error)\n"
   ]
  },
  {
   "cell_type": "code",
   "execution_count": 43,
   "metadata": {},
   "outputs": [
    {
     "ename": "KeyboardInterrupt",
     "evalue": "",
     "output_type": "error",
     "traceback": [
      "\u001b[0;31m---------------------------------------------------------------------------\u001b[0m",
      "\u001b[0;31mKeyboardInterrupt\u001b[0m                         Traceback (most recent call last)",
      "Cell \u001b[0;32mIn[43], line 4\u001b[0m\n\u001b[1;32m      2\u001b[0m X \u001b[38;5;241m=\u001b[39m dataset\u001b[38;5;241m.\u001b[39mT\n\u001b[1;32m      3\u001b[0m aksvd \u001b[38;5;241m=\u001b[39m ApproximateKSVD(n_components\u001b[38;5;241m=\u001b[39m\u001b[38;5;241m10000\u001b[39m)\n\u001b[0;32m----> 4\u001b[0m dictionary \u001b[38;5;241m=\u001b[39m \u001b[43maksvd\u001b[49m\u001b[38;5;241;43m.\u001b[39;49m\u001b[43mfit\u001b[49m\u001b[43m(\u001b[49m\u001b[43mX\u001b[49m\u001b[43m)\u001b[49m\u001b[38;5;241m.\u001b[39mcomponents_\n\u001b[1;32m      5\u001b[0m gamma \u001b[38;5;241m=\u001b[39m aksvd\u001b[38;5;241m.\u001b[39mtransform(X)\n",
      "File \u001b[0;32m/opt/homebrew/Caskroom/miniforge/base/lib/python3.10/site-packages/ksvd/__init__.py:75\u001b[0m, in \u001b[0;36mApproximateKSVD.fit\u001b[0;34m(self, X)\u001b[0m\n\u001b[1;32m     73\u001b[0m D \u001b[38;5;241m=\u001b[39m \u001b[38;5;28mself\u001b[39m\u001b[38;5;241m.\u001b[39m_initialize(X)\n\u001b[1;32m     74\u001b[0m \u001b[38;5;28;01mfor\u001b[39;00m i \u001b[38;5;129;01min\u001b[39;00m \u001b[38;5;28mrange\u001b[39m(\u001b[38;5;28mself\u001b[39m\u001b[38;5;241m.\u001b[39mmax_iter):\n\u001b[0;32m---> 75\u001b[0m     gamma \u001b[38;5;241m=\u001b[39m \u001b[38;5;28;43mself\u001b[39;49m\u001b[38;5;241;43m.\u001b[39;49m\u001b[43m_transform\u001b[49m\u001b[43m(\u001b[49m\u001b[43mD\u001b[49m\u001b[43m,\u001b[49m\u001b[43m \u001b[49m\u001b[43mX\u001b[49m\u001b[43m)\u001b[49m\n\u001b[1;32m     76\u001b[0m     e \u001b[38;5;241m=\u001b[39m np\u001b[38;5;241m.\u001b[39mlinalg\u001b[38;5;241m.\u001b[39mnorm(X \u001b[38;5;241m-\u001b[39m gamma\u001b[38;5;241m.\u001b[39mdot(D))\n\u001b[1;32m     77\u001b[0m     \u001b[38;5;28;01mif\u001b[39;00m e \u001b[38;5;241m<\u001b[39m \u001b[38;5;28mself\u001b[39m\u001b[38;5;241m.\u001b[39mtol:\n",
      "File \u001b[0;32m/opt/homebrew/Caskroom/miniforge/base/lib/python3.10/site-packages/ksvd/__init__.py:64\u001b[0m, in \u001b[0;36mApproximateKSVD._transform\u001b[0;34m(self, D, X)\u001b[0m\n\u001b[1;32m     61\u001b[0m \u001b[38;5;28;01mif\u001b[39;00m n_nonzero_coefs \u001b[38;5;129;01mis\u001b[39;00m \u001b[38;5;28;01mNone\u001b[39;00m:\n\u001b[1;32m     62\u001b[0m     n_nonzero_coefs \u001b[38;5;241m=\u001b[39m \u001b[38;5;28mint\u001b[39m(\u001b[38;5;241m0.1\u001b[39m \u001b[38;5;241m*\u001b[39m X\u001b[38;5;241m.\u001b[39mshape[\u001b[38;5;241m1\u001b[39m])\n\u001b[0;32m---> 64\u001b[0m \u001b[38;5;28;01mreturn\u001b[39;00m \u001b[43morthogonal_mp_gram\u001b[49m\u001b[43m(\u001b[49m\n\u001b[1;32m     65\u001b[0m \u001b[43m    \u001b[49m\u001b[43mgram\u001b[49m\u001b[43m,\u001b[49m\u001b[43m \u001b[49m\u001b[43mXy\u001b[49m\u001b[43m,\u001b[49m\u001b[43m \u001b[49m\u001b[43mn_nonzero_coefs\u001b[49m\u001b[38;5;241;43m=\u001b[39;49m\u001b[43mn_nonzero_coefs\u001b[49m\u001b[43m)\u001b[49m\u001b[38;5;241m.\u001b[39mT\n",
      "File \u001b[0;32m/opt/homebrew/Caskroom/miniforge/base/lib/python3.10/site-packages/sklearn/linear_model/_omp.py:574\u001b[0m, in \u001b[0;36morthogonal_mp_gram\u001b[0;34m(Gram, Xy, n_nonzero_coefs, tol, norms_squared, copy_Gram, copy_Xy, return_path, return_n_iter)\u001b[0m\n\u001b[1;32m    572\u001b[0m n_iters \u001b[38;5;241m=\u001b[39m []\n\u001b[1;32m    573\u001b[0m \u001b[38;5;28;01mfor\u001b[39;00m k \u001b[38;5;129;01min\u001b[39;00m \u001b[38;5;28mrange\u001b[39m(Xy\u001b[38;5;241m.\u001b[39mshape[\u001b[38;5;241m1\u001b[39m]):\n\u001b[0;32m--> 574\u001b[0m     out \u001b[38;5;241m=\u001b[39m \u001b[43m_gram_omp\u001b[49m\u001b[43m(\u001b[49m\n\u001b[1;32m    575\u001b[0m \u001b[43m        \u001b[49m\u001b[43mGram\u001b[49m\u001b[43m,\u001b[49m\n\u001b[1;32m    576\u001b[0m \u001b[43m        \u001b[49m\u001b[43mXy\u001b[49m\u001b[43m[\u001b[49m\u001b[43m:\u001b[49m\u001b[43m,\u001b[49m\u001b[43m \u001b[49m\u001b[43mk\u001b[49m\u001b[43m]\u001b[49m\u001b[43m,\u001b[49m\n\u001b[1;32m    577\u001b[0m \u001b[43m        \u001b[49m\u001b[43mn_nonzero_coefs\u001b[49m\u001b[43m,\u001b[49m\n\u001b[1;32m    578\u001b[0m \u001b[43m        \u001b[49m\u001b[43mnorms_squared\u001b[49m\u001b[43m[\u001b[49m\u001b[43mk\u001b[49m\u001b[43m]\u001b[49m\u001b[43m \u001b[49m\u001b[38;5;28;43;01mif\u001b[39;49;00m\u001b[43m \u001b[49m\u001b[43mtol\u001b[49m\u001b[43m \u001b[49m\u001b[38;5;129;43;01mis\u001b[39;49;00m\u001b[43m \u001b[49m\u001b[38;5;129;43;01mnot\u001b[39;49;00m\u001b[43m \u001b[49m\u001b[38;5;28;43;01mNone\u001b[39;49;00m\u001b[43m \u001b[49m\u001b[38;5;28;43;01melse\u001b[39;49;00m\u001b[43m \u001b[49m\u001b[38;5;28;43;01mNone\u001b[39;49;00m\u001b[43m,\u001b[49m\n\u001b[1;32m    579\u001b[0m \u001b[43m        \u001b[49m\u001b[43mtol\u001b[49m\u001b[43m,\u001b[49m\n\u001b[1;32m    580\u001b[0m \u001b[43m        \u001b[49m\u001b[43mcopy_Gram\u001b[49m\u001b[38;5;241;43m=\u001b[39;49m\u001b[43mcopy_Gram\u001b[49m\u001b[43m,\u001b[49m\n\u001b[1;32m    581\u001b[0m \u001b[43m        \u001b[49m\u001b[43mcopy_Xy\u001b[49m\u001b[38;5;241;43m=\u001b[39;49m\u001b[38;5;28;43;01mFalse\u001b[39;49;00m\u001b[43m,\u001b[49m\n\u001b[1;32m    582\u001b[0m \u001b[43m        \u001b[49m\u001b[43mreturn_path\u001b[49m\u001b[38;5;241;43m=\u001b[39;49m\u001b[43mreturn_path\u001b[49m\u001b[43m,\u001b[49m\n\u001b[1;32m    583\u001b[0m \u001b[43m    \u001b[49m\u001b[43m)\u001b[49m\n\u001b[1;32m    584\u001b[0m     \u001b[38;5;28;01mif\u001b[39;00m return_path:\n\u001b[1;32m    585\u001b[0m         _, idx, coefs, n_iter \u001b[38;5;241m=\u001b[39m out\n",
      "File \u001b[0;32m/opt/homebrew/Caskroom/miniforge/base/lib/python3.10/site-packages/sklearn/linear_model/_omp.py:239\u001b[0m, in \u001b[0;36m_gram_omp\u001b[0;34m(Gram, Xy, n_nonzero_coefs, tol_0, tol, copy_Gram, copy_Xy, return_path)\u001b[0m\n\u001b[1;32m    237\u001b[0m \u001b[38;5;28;01mif\u001b[39;00m n_active \u001b[38;5;241m>\u001b[39m \u001b[38;5;241m0\u001b[39m:\n\u001b[1;32m    238\u001b[0m     L[n_active, :n_active] \u001b[38;5;241m=\u001b[39m Gram[lam, :n_active]\n\u001b[0;32m--> 239\u001b[0m     \u001b[43mlinalg\u001b[49m\u001b[38;5;241;43m.\u001b[39;49m\u001b[43msolve_triangular\u001b[49m\u001b[43m(\u001b[49m\n\u001b[1;32m    240\u001b[0m \u001b[43m        \u001b[49m\u001b[43mL\u001b[49m\u001b[43m[\u001b[49m\u001b[43m:\u001b[49m\u001b[43mn_active\u001b[49m\u001b[43m,\u001b[49m\u001b[43m \u001b[49m\u001b[43m:\u001b[49m\u001b[43mn_active\u001b[49m\u001b[43m]\u001b[49m\u001b[43m,\u001b[49m\n\u001b[1;32m    241\u001b[0m \u001b[43m        \u001b[49m\u001b[43mL\u001b[49m\u001b[43m[\u001b[49m\u001b[43mn_active\u001b[49m\u001b[43m,\u001b[49m\u001b[43m \u001b[49m\u001b[43m:\u001b[49m\u001b[43mn_active\u001b[49m\u001b[43m]\u001b[49m\u001b[43m,\u001b[49m\n\u001b[1;32m    242\u001b[0m \u001b[43m        \u001b[49m\u001b[43mtrans\u001b[49m\u001b[38;5;241;43m=\u001b[39;49m\u001b[38;5;241;43m0\u001b[39;49m\u001b[43m,\u001b[49m\n\u001b[1;32m    243\u001b[0m \u001b[43m        \u001b[49m\u001b[43mlower\u001b[49m\u001b[38;5;241;43m=\u001b[39;49m\u001b[38;5;241;43m1\u001b[39;49m\u001b[43m,\u001b[49m\n\u001b[1;32m    244\u001b[0m \u001b[43m        \u001b[49m\u001b[43moverwrite_b\u001b[49m\u001b[38;5;241;43m=\u001b[39;49m\u001b[38;5;28;43;01mTrue\u001b[39;49;00m\u001b[43m,\u001b[49m\n\u001b[1;32m    245\u001b[0m \u001b[43m        \u001b[49m\u001b[43mcheck_finite\u001b[49m\u001b[38;5;241;43m=\u001b[39;49m\u001b[38;5;28;43;01mFalse\u001b[39;49;00m\u001b[43m,\u001b[49m\n\u001b[1;32m    246\u001b[0m \u001b[43m    \u001b[49m\u001b[43m)\u001b[49m\n\u001b[1;32m    247\u001b[0m     v \u001b[38;5;241m=\u001b[39m nrm2(L[n_active, :n_active]) \u001b[38;5;241m*\u001b[39m\u001b[38;5;241m*\u001b[39m \u001b[38;5;241m2\u001b[39m\n\u001b[1;32m    248\u001b[0m     Lkk \u001b[38;5;241m=\u001b[39m Gram[lam, lam] \u001b[38;5;241m-\u001b[39m v\n",
      "File \u001b[0;32m/opt/homebrew/Caskroom/miniforge/base/lib/python3.10/site-packages/scipy/linalg/_basic.py:350\u001b[0m, in \u001b[0;36msolve_triangular\u001b[0;34m(a, b, trans, lower, unit_diagonal, overwrite_b, check_finite)\u001b[0m\n\u001b[1;32m    346\u001b[0m     x, info \u001b[38;5;241m=\u001b[39m trtrs(a1, b1, overwrite_b\u001b[38;5;241m=\u001b[39moverwrite_b, lower\u001b[38;5;241m=\u001b[39mlower,\n\u001b[1;32m    347\u001b[0m                     trans\u001b[38;5;241m=\u001b[39mtrans, unitdiag\u001b[38;5;241m=\u001b[39munit_diagonal)\n\u001b[1;32m    348\u001b[0m \u001b[38;5;28;01melse\u001b[39;00m:\n\u001b[1;32m    349\u001b[0m     \u001b[38;5;66;03m# transposed system is solved since trtrs expects Fortran ordering\u001b[39;00m\n\u001b[0;32m--> 350\u001b[0m     x, info \u001b[38;5;241m=\u001b[39m \u001b[43mtrtrs\u001b[49m\u001b[43m(\u001b[49m\u001b[43ma1\u001b[49m\u001b[38;5;241;43m.\u001b[39;49m\u001b[43mT\u001b[49m\u001b[43m,\u001b[49m\u001b[43m \u001b[49m\u001b[43mb1\u001b[49m\u001b[43m,\u001b[49m\u001b[43m \u001b[49m\u001b[43moverwrite_b\u001b[49m\u001b[38;5;241;43m=\u001b[39;49m\u001b[43moverwrite_b\u001b[49m\u001b[43m,\u001b[49m\u001b[43m \u001b[49m\u001b[43mlower\u001b[49m\u001b[38;5;241;43m=\u001b[39;49m\u001b[38;5;129;43;01mnot\u001b[39;49;00m\u001b[43m \u001b[49m\u001b[43mlower\u001b[49m\u001b[43m,\u001b[49m\n\u001b[1;32m    351\u001b[0m \u001b[43m                    \u001b[49m\u001b[43mtrans\u001b[49m\u001b[38;5;241;43m=\u001b[39;49m\u001b[38;5;129;43;01mnot\u001b[39;49;00m\u001b[43m \u001b[49m\u001b[43mtrans\u001b[49m\u001b[43m,\u001b[49m\u001b[43m \u001b[49m\u001b[43munitdiag\u001b[49m\u001b[38;5;241;43m=\u001b[39;49m\u001b[43munit_diagonal\u001b[49m\u001b[43m)\u001b[49m\n\u001b[1;32m    353\u001b[0m \u001b[38;5;28;01mif\u001b[39;00m info \u001b[38;5;241m==\u001b[39m \u001b[38;5;241m0\u001b[39m:\n\u001b[1;32m    354\u001b[0m     \u001b[38;5;28;01mreturn\u001b[39;00m x\n",
      "\u001b[0;31mKeyboardInterrupt\u001b[0m: "
     ]
    }
   ],
   "source": [
    "# X ~ gamma.dot(dictionary)\n",
    "X = dataset.T\n",
    "aksvd = ApproximateKSVD(n_components=10000)\n",
    "dictionary = aksvd.fit(X).components_\n",
    "gamma = aksvd.transform(X)"
   ]
  }
 ],
 "metadata": {
  "kernelspec": {
   "display_name": "base",
   "language": "python",
   "name": "python3"
  },
  "language_info": {
   "codemirror_mode": {
    "name": "ipython",
    "version": 3
   },
   "file_extension": ".py",
   "mimetype": "text/x-python",
   "name": "python",
   "nbconvert_exporter": "python",
   "pygments_lexer": "ipython3",
   "version": "3.10.8"
  }
 },
 "nbformat": 4,
 "nbformat_minor": 2
}
