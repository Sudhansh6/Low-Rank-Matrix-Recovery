{
 "cells": [
  {
   "cell_type": "code",
   "execution_count": null,
   "metadata": {},
   "outputs": [],
   "source": [
    "# Import libraries\n",
    "import numpy as np\n",
    "import matplotlib.pyplot as plt\n",
    "import cv2 \n",
    "import time\n",
    "from scipy.sparse.linalg import svds"
   ]
  },
  {
   "cell_type": "code",
   "execution_count": null,
   "metadata": {},
   "outputs": [],
   "source": [
    "# Load the data\n",
    "cap = cv2.VideoCapture(\"highway.avi\")\n",
    "init_frame = 90 \n",
    "cap.set(cv2.CAP_PROP_POS_FRAMES, init_frame)\n",
    "\n",
    "num_frames = 30\n",
    "frames = []\n",
    "num_channels = 3\n",
    "frame_num = 0\n",
    "\n",
    "for i in range(num_frames):\n",
    "    ret, frame = cap.read()\n",
    "    if not ret:\n",
    "        break\n",
    "    frame_num += 1\n",
    "    frames.append(frame)\n",
    "\n",
    "cap.release()\n",
    "num_frames = frame_num"
   ]
  },
  {
   "cell_type": "code",
   "execution_count": null,
   "metadata": {},
   "outputs": [],
   "source": [
    "# Initialize variables\n",
    "n, m, _ = frames[0].shape\n",
    " \n",
    "# Flatten the frame\n",
    "max_val = np.max(np.abs(frames)) \n",
    "D = np.zeros((n*m*num_channels, num_frames))\n",
    " \n",
    "for i in range(num_frames):\n",
    "    D[:, i] = frames[i].flatten() \n",
    "D = D/max_val  \n",
    "\n",
    "# Add noise\n",
    "np.random.seed(0)\n",
    "noise_level = 0.0\n",
    "D = D + noise_level*np.random.randn(D.shape[0], D.shape[1])\n",
    "\n",
    "# Sanity check\n",
    "print(D.shape)\n",
    "print(np.max(D))"
   ]
  },
  {
   "cell_type": "code",
   "execution_count": null,
   "metadata": {},
   "outputs": [],
   "source": [
    "U, S, V = np.linalg.svd(D, full_matrices=False)\n",
    "print(np.dot(U, S))"
   ]
  },
  {
   "cell_type": "code",
   "execution_count": null,
   "metadata": {},
   "outputs": [],
   "source": [
    "\n",
    "def algorithm_run(D, lamda, mu, error_tol = 1e-8, max_iter = 100, print_every = 10):\n",
    "    L = np.zeros(D.shape) \n",
    "    S = np.zeros(D.shape) \n",
    "    Y = np.zeros(D.shape) \n",
    "\n",
    "    iter = 0    \n",
    "    error = np.inf\n",
    "    mu_inv = 1/mu\n",
    "\n",
    "    # Solve for L and S\n",
    "    while error > error_tol and iter < max_iter:\n",
    "        # L update\n",
    "        U, s, V = np.linalg.svd(D - S + mu_inv*Y, full_matrices=False)\n",
    "        # Threshold singular values\n",
    "        s = np.sign(s)*np.maximum(np.abs(s) - mu, 0)\n",
    "        L = np.dot(U, np.dot(np.diag(s), V))\n",
    "\n",
    "        # S update\n",
    "        M = D - L + mu_inv*Y\n",
    "        S = np.sign(M)*np.maximum(np.abs(M) - mu*lamda, 0)\n",
    "\n",
    "        # Y update\n",
    "        Y = Y + mu*(D - L - S)\n",
    "\n",
    "        # Error\n",
    "        error = np.linalg.norm(D - L - S, 'fro')/np.linalg.norm(D, 'fro')\n",
    "        cvx_error = np.linalg.norm(L, 'nuc') + lamda*np.linalg.norm(S.flatten(), 1)\n",
    "        iter += 1  \n",
    "        if iter % print_every == 0:\n",
    "            print(f\"Iteration {iter}, error = {cvx_error}\", \\\n",
    "                  f\"L rank = {np.linalg.matrix_rank(L)}, S l1 = {np.linalg.norm(S.flatten(), 1)}\")\n",
    "    \n",
    "    return L, S, cvx_error"
   ]
  },
  {
   "cell_type": "code",
   "execution_count": null,
   "metadata": {},
   "outputs": [],
   "source": [
    "\n",
    "# Cross-validation ranges for hyper-parameters\n",
    "lambdas = np.logspace(-3, 3, 7)\n",
    "mus = np.logspace(-3, 1, 4) # [m*n/(4*np.linalg.norm(D, 1))]\n",
    "\n",
    "# Hyper-parameter tuning\n",
    "best_error = np.inf\n",
    "best_lambda = 0\n",
    "best_mu = 0\n",
    "for lamda in lambdas:\n",
    "    for mu in mus:\n",
    "        # Measure the time to run the algorithm \n",
    "        t = time.time()  \n",
    "        L, S, error = algorithm_run(D, lamda, mu, max_iter = 10)\n",
    "        print(f\"Time to run the algorithm = {time.time() - t}\", f\"Error = {error}\",\\\n",
    "               f\"L rank = {np.linalg.matrix_rank(L)}\", f\"S L1 = {np.linalg.norm(S.flatten(), 1)}\") \n",
    "        if error < best_error:\n",
    "            best_error = error\n",
    "            best_lambda = lamda\n",
    "            best_mu = mu\n",
    "\n",
    "print(f\"Best error = {best_error}, lambda = {best_lambda}, mu = {best_mu}\")\n"
   ]
  },
  {
   "cell_type": "code",
   "execution_count": null,
   "metadata": {},
   "outputs": [],
   "source": [
    "# Run the algorithm with the best hyper-parameters\n",
    "print(\"Running the algorithm with the best hyper-parameters\", best_lambda, best_mu)\n",
    "L, S, error = algorithm_run(D, best_lambda, best_mu, error_tol = 1e-7, max_iter = 10, print_every = 1) \n",
    "print(f\"Error = {error}\", f\"L rank = {np.linalg.matrix_rank(L)}\", f\"S L1 = {np.linalg.norm(S.flatten(), 1)}\")"
   ]
  }
 ],
 "metadata": {
  "language_info": {
   "name": "python"
  }
 },
 "nbformat": 4,
 "nbformat_minor": 2
}
